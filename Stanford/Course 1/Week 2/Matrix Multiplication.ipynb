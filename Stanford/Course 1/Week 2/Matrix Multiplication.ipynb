{
 "cells": [
  {
   "cell_type": "markdown",
   "metadata": {},
   "source": [
    "# Matrix Multiplication \n",
    "\n",
    "Of two order n matrices"
   ]
  },
  {
   "cell_type": "code",
   "execution_count": 1,
   "metadata": {},
   "outputs": [],
   "source": [
    "class Mat():\n",
    "    '''\n",
    "    n= order of matrix\n",
    "    iterable of size n*n with concatnated rows'''\n",
    "    def __init__(self,n,lst):\n",
    "        assert n**2==len(lst),'size error'\n",
    "        mat=[]\n",
    "        for i in range(n):\n",
    "            mat.append(list(lst[i*n:i*n+n]))\n",
    "        self.mat=mat\n",
    "        self.order=n\n",
    "        inv=[]\n",
    "        for i in range(n):\n",
    "            l=[]\n",
    "            for j in range(n):\n",
    "                l.append(lst[i+j*n])\n",
    "            inv.append(list(l))\n",
    "        self.T=inv\n",
    "    def __call__(self):\n",
    "        return self.mat"
   ]
  },
  {
   "cell_type": "markdown",
   "metadata": {},
   "source": [
    "## Normal Brute Force"
   ]
  },
  {
   "cell_type": "code",
   "execution_count": 2,
   "metadata": {},
   "outputs": [],
   "source": [
    "def brute_multiply(mat1,mat2):\n",
    "    n=mat1.order\n",
    "    nmat=[]\n",
    "    for i in range(n):\n",
    "        for j in range(n):\n",
    "            nmat.append(sum(map(lambda x,y : x*y,mat1()[i],mat2.T[j])))\n",
    "    return Mat(n,nmat)"
   ]
  },
  {
   "cell_type": "code",
   "execution_count": 3,
   "metadata": {},
   "outputs": [],
   "source": [
    "import random\n",
    "mat1=Mat(8,random.sample(range(1000000),64))\n",
    "mat2=Mat(8,random.sample(range(1000000),64))"
   ]
  },
  {
   "cell_type": "code",
   "execution_count": 4,
   "metadata": {},
   "outputs": [],
   "source": [
    "import numpy as np\n",
    "a=np.array(mat1(),dtype='int64')\n",
    "b=np.array(mat2(),dtype='int64')"
   ]
  },
  {
   "cell_type": "code",
   "execution_count": 5,
   "metadata": {},
   "outputs": [
    {
     "name": "stdout",
     "output_type": "stream",
     "text": [
      "173 ns ± 21.7 ns per loop (mean ± std. dev. of 7 runs, 10000000 loops each)\n"
     ]
    },
    {
     "data": {
      "text/plain": [
       "[[1829543672303,\n",
       "  1424035001316,\n",
       "  1908885254937,\n",
       "  1864720418435,\n",
       "  1540642807553,\n",
       "  1544435717407,\n",
       "  2388420125116,\n",
       "  2116237958150],\n",
       " [2115348740429,\n",
       "  2067624797866,\n",
       "  1886319515910,\n",
       "  1844589393204,\n",
       "  1680696440115,\n",
       "  1971653927967,\n",
       "  2162087700242,\n",
       "  2692836332450],\n",
       " [1441989418025,\n",
       "  1740465583481,\n",
       "  1642319672497,\n",
       "  1638828971011,\n",
       "  948710135229,\n",
       "  694437863477,\n",
       "  1736542686437,\n",
       "  1837372988191],\n",
       " [1667198490960,\n",
       "  1473085572339,\n",
       "  1160562112544,\n",
       "  1714151771641,\n",
       "  1329019129634,\n",
       "  1689235976181,\n",
       "  1598964724841,\n",
       "  1835001548227],\n",
       " [1545313016773,\n",
       "  1521491140222,\n",
       "  1809997150247,\n",
       "  1763460342186,\n",
       "  1239818566431,\n",
       "  1371768456961,\n",
       "  2057074191510,\n",
       "  2086334769670],\n",
       " [1874035001831,\n",
       "  1893346271951,\n",
       "  2288156443055,\n",
       "  2315164378800,\n",
       "  1494503307304,\n",
       "  1580851623938,\n",
       "  2748411852394,\n",
       "  2379304057784],\n",
       " [2073537649640,\n",
       "  2327727625651,\n",
       "  2803451044084,\n",
       "  2868735816409,\n",
       "  1787820905723,\n",
       "  1750568424305,\n",
       "  3109597005706,\n",
       "  2685596685177],\n",
       " [853039593565,\n",
       "  741376879341,\n",
       "  1407989567294,\n",
       "  1637018157018,\n",
       "  879185741874,\n",
       "  1025219269967,\n",
       "  1761027254596,\n",
       "  1038739126002]]"
      ]
     },
     "execution_count": 5,
     "metadata": {},
     "output_type": "execute_result"
    }
   ],
   "source": [
    "%timeit range(10)\n",
    "brute_multiply(mat1,mat2)()"
   ]
  },
  {
   "cell_type": "code",
   "execution_count": 6,
   "metadata": {},
   "outputs": [
    {
     "name": "stdout",
     "output_type": "stream",
     "text": [
      "161 ns ± 6.91 ns per loop (mean ± std. dev. of 7 runs, 10000000 loops each)\n"
     ]
    },
    {
     "data": {
      "text/plain": [
       "array([[1829543672303, 1424035001316, 1908885254937, 1864720418435,\n",
       "        1540642807553, 1544435717407, 2388420125116, 2116237958150],\n",
       "       [2115348740429, 2067624797866, 1886319515910, 1844589393204,\n",
       "        1680696440115, 1971653927967, 2162087700242, 2692836332450],\n",
       "       [1441989418025, 1740465583481, 1642319672497, 1638828971011,\n",
       "         948710135229,  694437863477, 1736542686437, 1837372988191],\n",
       "       [1667198490960, 1473085572339, 1160562112544, 1714151771641,\n",
       "        1329019129634, 1689235976181, 1598964724841, 1835001548227],\n",
       "       [1545313016773, 1521491140222, 1809997150247, 1763460342186,\n",
       "        1239818566431, 1371768456961, 2057074191510, 2086334769670],\n",
       "       [1874035001831, 1893346271951, 2288156443055, 2315164378800,\n",
       "        1494503307304, 1580851623938, 2748411852394, 2379304057784],\n",
       "       [2073537649640, 2327727625651, 2803451044084, 2868735816409,\n",
       "        1787820905723, 1750568424305, 3109597005706, 2685596685177],\n",
       "       [ 853039593565,  741376879341, 1407989567294, 1637018157018,\n",
       "         879185741874, 1025219269967, 1761027254596, 1038739126002]],\n",
       "      dtype=int64)"
      ]
     },
     "execution_count": 6,
     "metadata": {},
     "output_type": "execute_result"
    }
   ],
   "source": [
    "%timeit range(10)\n",
    "np.matmul(a,b)"
   ]
  },
  {
   "cell_type": "markdown",
   "metadata": {},
   "source": [
    "##   Recursive Algorithm"
   ]
  },
  {
   "cell_type": "code",
   "execution_count": 7,
   "metadata": {},
   "outputs": [],
   "source": [
    "def rec_multiply(x,y):\n",
    "    import numpy as np\n",
    "    if str(type(x)) != '''<class 'numpy.ndarray'>''' :\n",
    "        x=np.array(x,dtype='int64')\n",
    "    if str(type(y)) != '''<class 'numpy.ndarray'>''' : \n",
    "        y=np.array(y,dtype='int64')\n",
    "    \n",
    "    n=x.shape[0]\n",
    "    if x.shape == (1,) or x.shape == (1,1):\n",
    "        return x*y\n",
    "    else :\n",
    "        A=x[:n//2,:n//2]\n",
    "        B=x[:n//2,n//2:]\n",
    "        C=x[n//2:,:n//2]\n",
    "        D=x[n//2:,n//2:]\n",
    "        E=y[:n//2,:n//2]\n",
    "        F=y[:n//2,n//2:]\n",
    "        G=y[n//2:,:n//2]\n",
    "        H=y[n//2:,n//2:]\n",
    "        AE=rec_multiply(A,E)\n",
    "        BG=rec_multiply(B,G)\n",
    "        AF=rec_multiply(A,F)\n",
    "        BH=rec_multiply(B,H)\n",
    "        CE=rec_multiply(C,E)\n",
    "        DG=rec_multiply(D,G)\n",
    "        CF=rec_multiply(C,F)\n",
    "        DH=rec_multiply(D,H)\n",
    "        xy=np.copy(x)\n",
    "        xy[:n//2,:n//2]=AE+BG\n",
    "        xy[:n//2,n//2:]=AF+BH\n",
    "        xy[n//2:,:n//2]=CE+DG\n",
    "        xy[n//2:,n//2:]=CF+DH\n",
    "        return xy\n",
    "        \n",
    "        "
   ]
  },
  {
   "cell_type": "code",
   "execution_count": 8,
   "metadata": {},
   "outputs": [
    {
     "name": "stdout",
     "output_type": "stream",
     "text": [
      "163 ns ± 3.6 ns per loop (mean ± std. dev. of 7 runs, 10000000 loops each)\n"
     ]
    },
    {
     "data": {
      "text/plain": [
       "array([[1829543672303, 1424035001316, 1908885254937, 1864720418435,\n",
       "        1540642807553, 1544435717407, 2388420125116, 2116237958150],\n",
       "       [2115348740429, 2067624797866, 1886319515910, 1844589393204,\n",
       "        1680696440115, 1971653927967, 2162087700242, 2692836332450],\n",
       "       [1441989418025, 1740465583481, 1642319672497, 1638828971011,\n",
       "         948710135229,  694437863477, 1736542686437, 1837372988191],\n",
       "       [1667198490960, 1473085572339, 1160562112544, 1714151771641,\n",
       "        1329019129634, 1689235976181, 1598964724841, 1835001548227],\n",
       "       [1545313016773, 1521491140222, 1809997150247, 1763460342186,\n",
       "        1239818566431, 1371768456961, 2057074191510, 2086334769670],\n",
       "       [1874035001831, 1893346271951, 2288156443055, 2315164378800,\n",
       "        1494503307304, 1580851623938, 2748411852394, 2379304057784],\n",
       "       [2073537649640, 2327727625651, 2803451044084, 2868735816409,\n",
       "        1787820905723, 1750568424305, 3109597005706, 2685596685177],\n",
       "       [ 853039593565,  741376879341, 1407989567294, 1637018157018,\n",
       "         879185741874, 1025219269967, 1761027254596, 1038739126002]],\n",
       "      dtype=int64)"
      ]
     },
     "execution_count": 8,
     "metadata": {},
     "output_type": "execute_result"
    }
   ],
   "source": [
    "%timeit range(10)\n",
    "rec_multiply(a,b)"
   ]
  },
  {
   "cell_type": "markdown",
   "metadata": {},
   "source": [
    "## Strassen's Algo "
   ]
  },
  {
   "cell_type": "code",
   "execution_count": 9,
   "metadata": {},
   "outputs": [],
   "source": [
    "def strassen_multiply(x,y):\n",
    "    import numpy as np\n",
    "    if str(type(x)) != '''<class 'numpy.ndarray'>''' :\n",
    "        x=np.array(x,dtype='int64')\n",
    "    if str(type(y)) != '''<class 'numpy.ndarray'>''' : \n",
    "        y=np.array(y,dtype='int64')\n",
    "    \n",
    "    n=x.shape[0]\n",
    "    if x.shape == (1,) or x.shape == (1,1):\n",
    "        return x*y\n",
    "    else :\n",
    "        A=x[:n//2,:n//2]\n",
    "        B=x[:n//2,n//2:]\n",
    "        C=x[n//2:,:n//2]\n",
    "        D=x[n//2:,n//2:]\n",
    "        E=y[:n//2,:n//2]\n",
    "        F=y[:n//2,n//2:]\n",
    "        G=y[n//2:,:n//2]\n",
    "        H=y[n//2:,n//2:]\n",
    "        p1=strassen_multiply(A,F-H)\n",
    "        p2=strassen_multiply(A+B,H)\n",
    "        p3=strassen_multiply(C+D,E)\n",
    "        p4=strassen_multiply(D,G-E)\n",
    "        p5=strassen_multiply(A+D,E+H)\n",
    "        p6=strassen_multiply(B-D,G+H)\n",
    "        p7=strassen_multiply(A-C,E+F)\n",
    "        xy=np.copy(x)\n",
    "        xy[:n//2,:n//2]=p5+p4-p2+p6\n",
    "        xy[:n//2,n//2:]=p1+p2\n",
    "        xy[n//2:,:n//2]=p3+p4\n",
    "        xy[n//2:,n//2:]=p1+p5-p3-p7\n",
    "        return xy\n",
    "        "
   ]
  },
  {
   "cell_type": "code",
   "execution_count": 11,
   "metadata": {},
   "outputs": [
    {
     "name": "stdout",
     "output_type": "stream",
     "text": [
      "163 ns ± 7.63 ns per loop (mean ± std. dev. of 7 runs, 10000000 loops each)\n"
     ]
    },
    {
     "data": {
      "text/plain": [
       "array([[1829543672303, 1424035001316, 1908885254937, 1864720418435,\n",
       "        1540642807553, 1544435717407, 2388420125116, 2116237958150],\n",
       "       [2115348740429, 2067624797866, 1886319515910, 1844589393204,\n",
       "        1680696440115, 1971653927967, 2162087700242, 2692836332450],\n",
       "       [1441989418025, 1740465583481, 1642319672497, 1638828971011,\n",
       "         948710135229,  694437863477, 1736542686437, 1837372988191],\n",
       "       [1667198490960, 1473085572339, 1160562112544, 1714151771641,\n",
       "        1329019129634, 1689235976181, 1598964724841, 1835001548227],\n",
       "       [1545313016773, 1521491140222, 1809997150247, 1763460342186,\n",
       "        1239818566431, 1371768456961, 2057074191510, 2086334769670],\n",
       "       [1874035001831, 1893346271951, 2288156443055, 2315164378800,\n",
       "        1494503307304, 1580851623938, 2748411852394, 2379304057784],\n",
       "       [2073537649640, 2327727625651, 2803451044084, 2868735816409,\n",
       "        1787820905723, 1750568424305, 3109597005706, 2685596685177],\n",
       "       [ 853039593565,  741376879341, 1407989567294, 1637018157018,\n",
       "         879185741874, 1025219269967, 1761027254596, 1038739126002]],\n",
       "      dtype=int64)"
      ]
     },
     "execution_count": 11,
     "metadata": {},
     "output_type": "execute_result"
    }
   ],
   "source": [
    "%timeit range(10)\n",
    "strassen_multiply(a,b)"
   ]
  },
  {
   "cell_type": "code",
   "execution_count": null,
   "metadata": {},
   "outputs": [],
   "source": []
  }
 ],
 "metadata": {
  "kernelspec": {
   "display_name": "Python 3",
   "language": "python",
   "name": "python3"
  },
  "language_info": {
   "codemirror_mode": {
    "name": "ipython",
    "version": 3
   },
   "file_extension": ".py",
   "mimetype": "text/x-python",
   "name": "python",
   "nbconvert_exporter": "python",
   "pygments_lexer": "ipython3",
   "version": "3.8.3"
  }
 },
 "nbformat": 4,
 "nbformat_minor": 4
}

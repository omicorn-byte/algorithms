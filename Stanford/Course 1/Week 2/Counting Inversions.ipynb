{
 "cells": [
  {
   "cell_type": "markdown",
   "metadata": {},
   "source": [
    "# Divide and Conquer Algorithms\n"
   ]
  },
  {
   "cell_type": "markdown",
   "metadata": {},
   "source": [
    "## Counting Inversions"
   ]
  },
  {
   "cell_type": "markdown",
   "metadata": {},
   "source": [
    "Input :  array A containing the numbers 1,2,3,..,n  in some arbitrary order\n",
    "\n",
    "Output:  number of inversions = number of pairs (i , j ) of array indices with i<j  and A[i] > A[j]\n"
   ]
  },
  {
   "cell_type": "markdown",
   "metadata": {},
   "source": [
    "### By Brute Force Method\n",
    "take θ(n**2 ) time\n",
    "\n",
    "We could set up a double four loop. One which goes through i, one which goes through j bigger than i, and we just check each pair i j individually with i less than j whether that particular pair of array entities A[i] and A[j] is inverted and if it is then we add it to our running count. And then we return the final count at the end of the double four loop."
   ]
  },
  {
   "cell_type": "code",
   "execution_count": 1,
   "metadata": {},
   "outputs": [],
   "source": [
    "def brute_inversion(lst):\n",
    "    n=len(lst)\n",
    "    inversion_count = 0\n",
    "    for i in range(n):\n",
    "        for j in range(1,n):\n",
    "            if j>i and lst[i]>lst[j]:\n",
    "                inversion_count+=1\n",
    "    return inversion_count\n",
    "                "
   ]
  },
  {
   "cell_type": "code",
   "execution_count": 2,
   "metadata": {
    "scrolled": true
   },
   "outputs": [
    {
     "data": {
      "text/plain": [
       "12"
      ]
     },
     "execution_count": 2,
     "metadata": {},
     "output_type": "execute_result"
    }
   ],
   "source": [
    "brute_inversion([6,7,9,5,4,0])"
   ]
  },
  {
   "cell_type": "markdown",
   "metadata": {},
   "source": [
    "Can we do better ?\n",
    "Yes\n",
    "### Divide + Conquer :\n",
    "takes O(n log(n)) time"
   ]
  },
  {
   "cell_type": "code",
   "execution_count": 3,
   "metadata": {},
   "outputs": [],
   "source": [
    "def Merge_and_CountSplitInve(B,C):\n",
    "    p=len(B)-1\n",
    "    q=len(C)-1\n",
    "    D=[]\n",
    "    i=0\n",
    "    j=0\n",
    "    z=0\n",
    "    for _ in range(p+q+2):\n",
    "        if i<=p and j<=q:\n",
    "            if B[i]<C[j]:\n",
    "                D.append(B[i])\n",
    "                i+=1\n",
    "            elif C[j]<B[i]:\n",
    "                D.append(C[j])\n",
    "                j+=1\n",
    "                z+=p+1-i\n",
    "        elif i>p:\n",
    "            D+=C[j:]\n",
    "            #print('h')\n",
    "            break\n",
    "        elif j>q:\n",
    "            D+=B[i:]\n",
    "            break\n",
    "    return D, z\n",
    "            "
   ]
  },
  {
   "cell_type": "code",
   "execution_count": 4,
   "metadata": {},
   "outputs": [],
   "source": [
    "def Sort_and_Count(lst):\n",
    "    n=len(lst)\n",
    "    if n ==1:\n",
    "        return lst,0\n",
    "    else: \n",
    "        #print(lst[:n//2],lst[n//2:])\n",
    "        (B,x)=Sort_and_Count(lst[:n//2])\n",
    "        # print('B',B,x)\n",
    "        (C,y)=Sort_and_Count(lst[n//2:])\n",
    "        #print('C',C,y)\n",
    "        (D,z)=Merge_and_CountSplitInve(B,C)\n",
    "        #print(\"D\",D,z)\n",
    "        return (D,x+y+z)"
   ]
  },
  {
   "cell_type": "code",
   "execution_count": 5,
   "metadata": {},
   "outputs": [
    {
     "data": {
      "text/plain": [
       "([0, 4, 5, 6, 7, 9], 12)"
      ]
     },
     "execution_count": 5,
     "metadata": {},
     "output_type": "execute_result"
    }
   ],
   "source": [
    "Sort_and_Count([6,7,9,5,4,0])"
   ]
  },
  {
   "cell_type": "code",
   "execution_count": 6,
   "metadata": {},
   "outputs": [],
   "source": [
    "import random\n",
    "sample=random.sample(range(1000000),80000)"
   ]
  },
  {
   "cell_type": "code",
   "execution_count": 7,
   "metadata": {
    "scrolled": true
   },
   "outputs": [
    {
     "name": "stdout",
     "output_type": "stream",
     "text": [
      "157 ns ± 5 ns per loop (mean ± std. dev. of 7 runs, 10000000 loops each)\n"
     ]
    }
   ],
   "source": [
    "%timeit range(2)\n",
    "_,i=Sort_and_Count(sample)"
   ]
  },
  {
   "cell_type": "code",
   "execution_count": 8,
   "metadata": {},
   "outputs": [
    {
     "name": "stdout",
     "output_type": "stream",
     "text": [
      "1598745178\n"
     ]
    }
   ],
   "source": [
    "print(i)"
   ]
  },
  {
   "cell_type": "code",
   "execution_count": 9,
   "metadata": {},
   "outputs": [],
   "source": [
    "fl=open(\"untitled.txt\", \"r\")"
   ]
  },
  {
   "cell_type": "code",
   "execution_count": 10,
   "metadata": {},
   "outputs": [],
   "source": [
    "x=fl.read()"
   ]
  },
  {
   "cell_type": "code",
   "execution_count": 12,
   "metadata": {},
   "outputs": [],
   "source": [
    "g=x.split('\\n')"
   ]
  },
  {
   "cell_type": "code",
   "execution_count": 14,
   "metadata": {},
   "outputs": [],
   "source": [
    "g=[int(x) for x in g]"
   ]
  },
  {
   "cell_type": "code",
   "execution_count": 17,
   "metadata": {},
   "outputs": [],
   "source": [
    "_,v=Sort_and_Count(g)"
   ]
  },
  {
   "cell_type": "code",
   "execution_count": 18,
   "metadata": {},
   "outputs": [
    {
     "data": {
      "text/plain": [
       "2407905288"
      ]
     },
     "execution_count": 18,
     "metadata": {},
     "output_type": "execute_result"
    }
   ],
   "source": [
    "v"
   ]
  },
  {
   "cell_type": "code",
   "execution_count": null,
   "metadata": {},
   "outputs": [],
   "source": []
  }
 ],
 "metadata": {
  "kernelspec": {
   "display_name": "Python 3",
   "language": "python",
   "name": "python3"
  },
  "language_info": {
   "codemirror_mode": {
    "name": "ipython",
    "version": 3
   },
   "file_extension": ".py",
   "mimetype": "text/x-python",
   "name": "python",
   "nbconvert_exporter": "python",
   "pygments_lexer": "ipython3",
   "version": "3.8.3"
  }
 },
 "nbformat": 4,
 "nbformat_minor": 4
}

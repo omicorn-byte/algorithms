{
 "cells": [
  {
   "cell_type": "markdown",
   "metadata": {},
   "source": [
    "# Closest Pair"
   ]
  },
  {
   "cell_type": "code",
   "execution_count": 16,
   "metadata": {},
   "outputs": [],
   "source": [
    "import random\n",
    "def distance(p1,p2):\n",
    "    x1,y1=p1\n",
    "    x2,y2=p2\n",
    "    #print(x2,y2)\n",
    "    return ((x1-x2)**2+(y1-y2)**2)**0.5 "
   ]
  },
  {
   "cell_type": "markdown",
   "metadata": {},
   "source": [
    "### Brute Force "
   ]
  },
  {
   "cell_type": "code",
   "execution_count": 17,
   "metadata": {},
   "outputs": [],
   "source": [
    "def brute_cl_pair(lst):\n",
    "    assert len(list(set(lst)))==len(lst),'''lst is not unique'''\n",
    "    n=len(lst)\n",
    "    c1,c2=lst[0],lst[1]\n",
    "    d=distance(c1,c2)\n",
    "    for i in range(n):\n",
    "        for j in range(i+1,n):\n",
    "            dp=distance(lst[i],lst[j])\n",
    "            #print(lst[i],lst[j],dp ,i,j)\n",
    "            if dp<d:\n",
    "                d=dp\n",
    "                \n",
    "                c1,c2=lst[i],lst[j]\n",
    "    return  c1,c2,d\n",
    "    "
   ]
  },
  {
   "cell_type": "code",
   "execution_count": 18,
   "metadata": {},
   "outputs": [],
   "source": [
    "def brute_random(n):\n",
    "    samples=random.sample(range(10000+n*2),n*2)\n",
    "    lst=list(map(lambda x,y : (x,y),samples[:n],samples[n:]))\n",
    "    return brute_cl_pair(lst)"
   ]
  },
  {
   "cell_type": "markdown",
   "metadata": {},
   "source": [
    "## Divide and Conquer "
   ]
  },
  {
   "cell_type": "code",
   "execution_count": 20,
   "metadata": {},
   "outputs": [],
   "source": [
    "def sortp(lst,xory):\n",
    "    return sorted(lst,key=lambda x : x[xory])\n",
    "\n",
    "def givepairs(lst):\n",
    "    return sortp(lst,0),sortp(lst,1)\n",
    "\n",
    "def Sy(py,x_bar,det):\n",
    "    lower_limit,upper_limit=(x_bar-det,x_bar+det)\n",
    "    return [point for point in py if point[0] <=upper_limit and point[0]>=lower_limit]"
   ]
  },
  {
   "cell_type": "code",
   "execution_count": 21,
   "metadata": {},
   "outputs": [],
   "source": [
    "def closestsplitpair(px,py,det):\n",
    "    x_bar=px[(len(px)+1)//2][0]\n",
    "    sy=Sy(py,x_bar,det)\n",
    "    best=det\n",
    "    pair=None\n",
    "    mod_sy=len(sy)\n",
    "    for i in range(mod_sy-1):\n",
    "        for j in range(1,min(7,mod_sy-i)):\n",
    "            p,q=(sy[i],sy[i+j])\n",
    "            d=distance(p,q)\n",
    "            if d<=best:\n",
    "                pair=(p,q)\n",
    "                best=d\n",
    "    if pair==None:\n",
    "        pair=(px[(len(px)+1)//2],px[0])\n",
    "    return pair"
   ]
  },
  {
   "cell_type": "code",
   "execution_count": 49,
   "metadata": {},
   "outputs": [],
   "source": [
    "def closepair(px,py):\n",
    "    n=len(px)//2\n",
    "    if n>1:\n",
    "        qx,rx=(px[:n],px[n:])\n",
    "        qy,ry=(py[:n],py[n:])\n",
    "        p1,q1=closepair(qx,qy)\n",
    "        #print(p1,q1)\n",
    "        p2,q2=closepair(rx,ry)\n",
    "        d1=distance(p1,q1)\n",
    "        d2=distance(p2,q2)\n",
    "        det=min(d1,d2)\n",
    "        p3,q3=closestsplitpair(px,py,det)\n",
    "        d3=distance(p3,q3)\n",
    "        #print('tttt',[x for x,d in [((p1,q1),d1),((p2,q2),d2),((p3,q3),d3)] if d== min(d1,d2,d3)])\n",
    "        return [x for x,d in [((p1,q1),d1),((p2,q2),d2),((p3,q3),d3)] if d== min(d1,d2,d3)][0]\n",
    "    elif n==1:\n",
    "        return brute_cl_pair(px)[:2]\n",
    "        "
   ]
  },
  {
   "cell_type": "code",
   "execution_count": 50,
   "metadata": {},
   "outputs": [],
   "source": [
    "def di_conq_random(n):\n",
    "    samples=random.sample(range(10000+n*2),n*2)\n",
    "    lst=list(map(lambda x,y : (x,y),samples[:n],samples[n:]))\n",
    "    return closepair(*givepairs(lst))"
   ]
  },
  {
   "cell_type": "code",
   "execution_count": 51,
   "metadata": {},
   "outputs": [
    {
     "name": "stdout",
     "output_type": "stream",
     "text": [
      "222 ns ± 18.4 ns per loop (mean ± std. dev. of 7 runs, 10000000 loops each)\n"
     ]
    },
    {
     "data": {
      "text/plain": [
       "((3853, 2543), (3906, 2631))"
      ]
     },
     "execution_count": 51,
     "metadata": {},
     "output_type": "execute_result"
    }
   ],
   "source": [
    "%timeit range(1000)\n",
    "di_conq_random(100)"
   ]
  },
  {
   "cell_type": "code",
   "execution_count": 52,
   "metadata": {},
   "outputs": [
    {
     "name": "stdout",
     "output_type": "stream",
     "text": [
      "216 ns ± 9.66 ns per loop (mean ± std. dev. of 7 runs, 1000000 loops each)\n"
     ]
    },
    {
     "data": {
      "text/plain": [
       "((2092, 7392), (2041, 7503), 122.15563842901399)"
      ]
     },
     "execution_count": 52,
     "metadata": {},
     "output_type": "execute_result"
    }
   ],
   "source": [
    "%timeit range(1000)\n",
    "brute_random(100)"
   ]
  },
  {
   "cell_type": "code",
   "execution_count": null,
   "metadata": {},
   "outputs": [],
   "source": []
  }
 ],
 "metadata": {
  "kernelspec": {
   "display_name": "Python 3",
   "language": "python",
   "name": "python3"
  },
  "language_info": {
   "codemirror_mode": {
    "name": "ipython",
    "version": 3
   },
   "file_extension": ".py",
   "mimetype": "text/x-python",
   "name": "python",
   "nbconvert_exporter": "python",
   "pygments_lexer": "ipython3",
   "version": "3.8.3"
  }
 },
 "nbformat": 4,
 "nbformat_minor": 4
}
